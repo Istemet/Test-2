{
  "metadata": {
    "kernelspec": {
      "name": "python",
      "display_name": "Python (Pyodide)",
      "language": "python"
    },
    "language_info": {
      "codemirror_mode": {
        "name": "python",
        "version": 3
      },
      "file_extension": ".py",
      "mimetype": "text/x-python",
      "name": "python",
      "nbconvert_exporter": "python",
      "pygments_lexer": "ipython3",
      "version": "3.8"
    }
  },
  "nbformat_minor": 5,
  "nbformat": 4,
  "cells": [
    {
      "id": "99b0834c-319a-43d9-89f5-de68401ef0fc",
      "cell_type": "markdown",
      "source": "# Data Science Tools and Ecosystem",
      "metadata": {}
    },
    {
      "id": "f86e74bb-35d9-4972-92d8-1e8aaa0edace",
      "cell_type": "code",
      "source": "## In this notebook, Data Science Tools and Ecosystem are summarized.",
      "metadata": {
        "trusted": true
      },
      "outputs": [],
      "execution_count": null
    },
    {
      "id": "4c089894-8b0b-4018-88da-b1a228c68ca9",
      "cell_type": "markdown",
      "source": "# Some of the popular languages that Data Scientists use are:\n## 1. Python\n## 2. R\n## 3. C++\n## 4. Java\n## 5. Julia",
      "metadata": {
        "jp-MarkdownHeadingCollapsed": true
      }
    },
    {
      "id": "bfe99474-4134-4386-be55-0af6cc000799",
      "cell_type": "markdown",
      "source": "# Some of the commonly used libraries used by Data Scientists include:\n## 1. TensorFlow\n## 2. NumPy\n## 3. Pandas",
      "metadata": {}
    },
    {
      "id": "ca3b2136-a654-41d9-845d-e5cad3b0a04a",
      "cell_type": "markdown",
      "source": "# Data Science Tools\n## 1. GitHub\n## 2. ProjectJupyter\n## 3. Spark",
      "metadata": {}
    },
    {
      "id": "a353b328-099d-450d-a5aa-46a4a0b4b693",
      "cell_type": "markdown",
      "source": "### Below are a few examples of evaluating arithmetic expressions in Python",
      "metadata": {}
    },
    {
      "id": "e8659f92-8d42-4a71-b80b-2d326d3130d8",
      "cell_type": "code",
      "source": "(3*4)+5\n# This a simple arithmetic expression to mutiply then add integers",
      "metadata": {
        "trusted": true
      },
      "outputs": [
        {
          "execution_count": 5,
          "output_type": "execute_result",
          "data": {
            "text/plain": "17"
          },
          "metadata": {}
        }
      ],
      "execution_count": 5
    },
    {
      "id": "1caa56fb-9dc2-45a5-b6bd-b8fc29e48242",
      "cell_type": "code",
      "source": "200/60\n# This will convert 200 minutes to hours by diving by 60",
      "metadata": {
        "trusted": true
      },
      "outputs": [
        {
          "execution_count": 8,
          "output_type": "execute_result",
          "data": {
            "text/plain": "3.3333333333333335"
          },
          "metadata": {}
        }
      ],
      "execution_count": 8
    },
    {
      "id": "cfad1dc8-0105-4ea6-82c0-6b8d99cad765",
      "cell_type": "code",
      "source": "# This will convert 200 minutes to hours by dividing by 60\nminutes = 200\nhours = minutes / 60\nprint(hours)",
      "metadata": {
        "trusted": true
      },
      "outputs": [
        {
          "name": "stdout",
          "output_type": "stream",
          "text": "3.3333333333333335\n"
        }
      ],
      "execution_count": 7
    },
    {
      "id": "6dd9b256-3634-492d-9fb4-3ce2da1a21fd",
      "cell_type": "code",
      "source": "# This will convert 200 minutes to hours and remaining minutes\nminutes = 200\nhours = minutes // 60  # Whole hours\nremaining_minutes = minutes % 60  # Remaining minutes\n\nprint(f\"{hours} hours and {remaining_minutes} minutes\")",
      "metadata": {
        "trusted": true
      },
      "outputs": [
        {
          "name": "stdout",
          "output_type": "stream",
          "text": "3 hours and 20 minutes\n"
        }
      ],
      "execution_count": 9
    },
    {
      "id": "f1a15a20-3a32-4b3b-868a-c648d14df630",
      "cell_type": "markdown",
      "source": "## **Objectives:**\n- *Python*\n- *R*\n- *C++*\n- *Julia*",
      "metadata": {}
    },
    {
      "id": "137c96e6-1c1a-450e-ada7-02f5534581c5",
      "cell_type": "markdown",
      "source": "## **Author**\nTimur Klepikovski",
      "metadata": {}
    }
  ]
}